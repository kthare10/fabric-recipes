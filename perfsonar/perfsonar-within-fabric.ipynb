{
 "cells": [
  {
   "cell_type": "markdown",
   "metadata": {},
   "source": [
    "# Setup slice with perfSONAR\n",
    "\n",
    "This notebook demonstrates how to set up and use perfSONAR within the FABRIC testbed to monitor network performance between a shore-side and a ship-side environment.\n",
    "\n",
    "While this setup is illustrated using a ship-to-shore example, it is fully generalizable and can be used for any distributed experiment in FABRIC that requires continuous or periodic monitoring of network connectivity between sites.\n",
    "\n",
    "---\n",
    "\n",
    "## References\n",
    "\n",
    "* [pScheduler Overview](https://fasterdata.es.net/performance-testing/network-troubleshooting-tools/pscheduler/)\n",
    "* [perfSONAR Docker Installation Guide](https://docs.perfsonar.net/install_options.html#docker-installation)\n",
    "\n",
    "---\n",
    "\n",
    "## System Architecture\n",
    "\n",
    "The setup consists of:\n",
    "\n",
    "* **Shore-side VM** running perfSONAR Toolkit and Result Archiver.\n",
    "* **Ship-side VM** running a Docker-based perfSONAR testpoint configured to launch periodic network tests (throughput, latency, etc.) and push results to the Result Archiver.\n",
    "\n",
    "![](./images/perfsonar-deployment.png)\n",
    "\n",
    "This same architecture can be adapted for experiments between any two or more FABRIC nodes—across regions, sites, or administrative domains—enabling researchers to evaluate performance and troubleshoot connectivity in real time or during experimental phases.\n",
    "\n",
    "\n",
    "\n",
    "## Notes\n",
    "\n",
    "* In this example, the ship-side environment is emulated using a VM on FABRIC to simulate the mobile edge conditions found on research vessels.The test results include bandwidth, RTT, latency, and trace metrics.\n",
    "* Data is stored on the ship and uploaded to the shore-side VM for analysis.\n",
    "* Onboard Grafana interface can be used for local visualization.\n",
    "\n",
    "This setup is ideal for real-time and retrospective monitoring of network connectivity in mobile edge scenarios such as scientific cruises or field deployments.\n",
    "\n",
    "More generally, it serves as a robust solution for any FABRIC-based experiment that needs reproducible and automated network measurements between distributed testbed nodes.\n"
   ]
  },
  {
   "cell_type": "markdown",
   "metadata": {},
   "source": [
    "### 1. Import the FABlib Library\n",
    "\n",
    "FABlib is used to programmatically create and manage FABRIC resources such as slices and VMs."
   ]
  },
  {
   "cell_type": "code",
   "execution_count": null,
   "metadata": {
    "tags": []
   },
   "outputs": [],
   "source": [
    "from ipaddress import ip_address, IPv4Address, IPv6Address, IPv4Network, IPv6Network\n",
    "import ipaddress, os, json\n",
    "\n",
    "from fabrictestbed_extensions.fablib.fablib import FablibManager as fablib_manager\n",
    "\n",
    "fablib = fablib_manager()\n",
    "                     \n",
    "fablib.show_config();"
   ]
  },
  {
   "cell_type": "markdown",
   "metadata": {
    "tags": []
   },
   "source": [
    "### 2. Create the Experiment Slice\n",
    "\n",
    "This step provisions the virtual resources (shore-side and ship-side VMs) on the FABRIC testbed."
   ]
  },
  {
   "cell_type": "code",
   "execution_count": null,
   "metadata": {
    "tags": []
   },
   "outputs": [],
   "source": [
    "slice_name = 'AperfSonar-fabric'\n",
    "#sites = fablib.get_random_sites(count=3)\n",
    "[site1,site2] = sites = [\"STAR\", \"FIU\"]\n",
    "print(f\"Sites: {sites}\")\n",
    "\n",
    "node1_name = \"shore-perfsonar-toolkit\"\n",
    "node2_name = \"ship-perfsonar-testpoint\""
   ]
  },
  {
   "cell_type": "code",
   "execution_count": null,
   "metadata": {
    "tags": []
   },
   "outputs": [],
   "source": [
    "#Create Slice\n",
    "slice = fablib.new_slice(name=slice_name)\n",
    "\n",
    "\n",
    "net1 = slice.add_l3network(name=f\"{site1}-l3\", type='IPv4')\n",
    "node1 = slice.add_node(name=node1_name, site=site1, image=\"default_rocky_9\", cores=16, ram=32, disk=100)\n",
    "iface1 = node1.add_component(model='NIC_Basic', name='nic1').get_interfaces()[0]\n",
    "iface1.set_mode('auto')\n",
    "net1.add_interface(iface1)\n",
    "node1.add_route(subnet=fablib.FABNETV4_SUBNET, next_hop=net1.get_gateway())\n",
    "\n",
    "\n",
    "net2 = slice.add_l3network(name=f\"{site2}-l3\", type='IPv4')\n",
    "node2 = slice.add_node(name=node2_name, site=site2, image=\"default_ubuntu_24\", cores=4, ram=16, disk=100)\n",
    "iface2 = node2.add_component(model='NIC_Basic', name='nic1').get_interfaces()[0]\n",
    "iface2.set_mode('auto')\n",
    "net2.add_interface(iface2)\n",
    "node2.add_route(subnet=fablib.FABNETV4_SUBNET, next_hop=net2.get_gateway())\n",
    "\n",
    "\n",
    "#Submit Slice Request\n",
    "slice.submit();"
   ]
  },
  {
   "cell_type": "code",
   "execution_count": null,
   "metadata": {},
   "outputs": [],
   "source": [
    "slice = fablib.get_slice(slice_name)\n",
    "node1 = slice.get_node(node1_name)\n",
    "node2 = slice.get_node(node2_name)"
   ]
  },
  {
   "cell_type": "markdown",
   "metadata": {},
   "source": [
    "### 3. Setup VM with perfSONAR Toolkit (Shore Side)\n",
    "\n",
    "* Install the perfSONAR toolkit on the shore-side VM.\n",
    "* Configure the Result Archiver service to store test results."
   ]
  },
  {
   "cell_type": "code",
   "execution_count": null,
   "metadata": {},
   "outputs": [],
   "source": [
    "node1.upload_directory('node_tools','.')"
   ]
  },
  {
   "cell_type": "code",
   "execution_count": null,
   "metadata": {},
   "outputs": [],
   "source": [
    "# Install Docker\n",
    "stdout, stderror = node1.execute('sudo node_tools/install.sh', quiet=True, output_file=f\"{node1.get_name()}.log\")"
   ]
  },
  {
   "cell_type": "code",
   "execution_count": null,
   "metadata": {},
   "outputs": [],
   "source": [
    "# Install perfsonar-toolkit\n",
    "stdout, stderror = node1.execute('sudo node_tools/toolkit-install.sh', quiet=True, output_file=f\"{node1.get_name()}-install.log\")"
   ]
  },
  {
   "cell_type": "code",
   "execution_count": null,
   "metadata": {},
   "outputs": [],
   "source": [
    "# Configure perfsonar-toolkit\n",
    "stdout, stderror = node1.execute('sudo node_tools/toolkit-configure.sh', quiet=True, output_file=f\"{node1.get_name()}-configure.log\")"
   ]
  },
  {
   "cell_type": "code",
   "execution_count": null,
   "metadata": {},
   "outputs": [],
   "source": [
    "# Install result archiver\n",
    "stdout, stderror = node1.execute('node_tools/result-archiver-install.sh', quiet=True, output_file=f\"{node1.get_name()}-install.log\")"
   ]
  },
  {
   "cell_type": "markdown",
   "metadata": {},
   "source": [
    "#### Create SSH Tunnel Configuration\n",
    "\n",
    "* Use the generated SSH command to tunnel access to:\n",
    "\n",
    "  * **Grafana Dashboard** (perfSONAR): [https://127.0.0.1](https://127.0.0.1)\n",
    "  * **Result Archiver**: [http://127.0.0.1:8000](http://127.0.0.1:8000)"
   ]
  },
  {
   "cell_type": "code",
   "execution_count": null,
   "metadata": {},
   "outputs": [],
   "source": [
    "fablib.create_ssh_tunnel_config(overwrite=True)"
   ]
  },
  {
   "cell_type": "markdown",
   "metadata": {},
   "source": [
    "#### perfSonar Toolkit Grafana\n",
    "Use the command generated below to access the perfSonar Grafana on Shore Side via https://127.0.0.1"
   ]
  },
  {
   "cell_type": "code",
   "execution_count": null,
   "metadata": {},
   "outputs": [],
   "source": [
    "# Port on your local machine that you want to map the File Browser to.\n",
    "local_port='8443'\n",
    "# Local interface to map the File Browser to (can be `localhost`)\n",
    "local_host='127.0.0.1'\n",
    "\n",
    "# Port on the node used by the File Browser Service\n",
    "target_port='443'\n",
    "\n",
    "# Username/node on FABRIC\n",
    "target_host=f'{node1.get_username()}@{node1.get_management_ip()}'\n",
    "\n",
    "print(f'ssh  -L {local_host}:{local_port}:127.0.0.1:{target_port} -i {os.path.basename(fablib.get_default_slice_public_key_file())[:-4]} -F ssh_config {target_host}')"
   ]
  },
  {
   "cell_type": "markdown",
   "metadata": {},
   "source": [
    "#### pscheduler Result Archiver\n",
    "Use the command generated below to access the Result Archiver on Shore Side via http://127.0.0.1:8000"
   ]
  },
  {
   "cell_type": "code",
   "execution_count": null,
   "metadata": {},
   "outputs": [],
   "source": [
    "# Port on your local machine that you want to map the File Browser to.\n",
    "local_port='8000'\n",
    "# Local interface to map the File Browser to (can be `localhost`)\n",
    "local_host='127.0.0.1'\n",
    "\n",
    "# Port on the node used by the File Browser Service\n",
    "target_port='8000'\n",
    "\n",
    "# Username/node on FABRIC\n",
    "target_host=f'{node1.get_username()}@{node1.get_management_ip()}'\n",
    "\n",
    "print(f'ssh  -L {local_host}:{local_port}:127.0.0.1:{target_port} -i {os.path.basename(fablib.get_default_slice_public_key_file())[:-4]} -F ssh_config {target_host}')"
   ]
  },
  {
   "cell_type": "markdown",
   "metadata": {},
   "source": [
    "#### Generate perfSONAR Configuration\n",
    "\n",
    "* Retrieve the public IP of the shore-side VM.\n",
    "* Generate the `AUTH_TOKEN` that is required to configure the ship-side testpoint."
   ]
  },
  {
   "cell_type": "code",
   "execution_count": null,
   "metadata": {},
   "outputs": [],
   "source": [
    "node1_iface = node1.get_interface(network_name=f\"{node1.get_site()}-l3\")  \n",
    "node1_addr = node1_iface.get_ip_addr()\n",
    "\n",
    "print(f\"Dataplane IP address of Shore side VM accessible from Ship side VM: {node1_addr}\") "
   ]
  },
  {
   "cell_type": "code",
   "execution_count": null,
   "metadata": {},
   "outputs": [],
   "source": [
    "stdout, stderr = node1.execute(f\"/usr/lib/perfsonar/archive/perfsonar-scripts/psconfig_archive.sh -n {node1_addr}\")\n",
    "\n",
    "# Parse stdout JSON string\n",
    "response = json.loads(stdout)\n",
    "\n",
    "# Extract the token\n",
    "auth_header = response.get(\"data\", {}).get(\"_headers\", {}).get(\"Authorization\", \"\")\n",
    "\n",
    "print(\"Extracted token:\", auth_header)"
   ]
  },
  {
   "cell_type": "markdown",
   "metadata": {},
   "source": [
    "### 4. Setup VM with perfSONAR Testpoint (Ship Side)\n",
    "\n",
    "* Clone the [perfsonar-extensions](https://github.com/kthare10/perfsonar-extensions) repository.\n",
    "* Update the `.env` file with the appropriate Shore-side IP, `AUTH_TOKEN`, and test frequency.\n",
    "* Launch the testpoint container via Docker Compose.\n",
    "* Bootstrap the cron job to schedule recurring tests."
   ]
  },
  {
   "cell_type": "code",
   "execution_count": null,
   "metadata": {},
   "outputs": [],
   "source": [
    "node2.upload_directory('node_tools','.')"
   ]
  },
  {
   "cell_type": "code",
   "execution_count": null,
   "metadata": {},
   "outputs": [],
   "source": [
    "# Install Docker\n",
    "stdout, stderror = node2.execute('sudo node_tools/install.sh', quiet=True, output_file=f\"{node2.get_name()}.log\")"
   ]
  },
  {
   "cell_type": "code",
   "execution_count": null,
   "metadata": {},
   "outputs": [],
   "source": [
    "# Setup perfSonar Testpoint container\n",
    "frequency_in_hours = 2\n",
    "stdout, stderror = node2.execute(f'sudo node_tools/testpoint.sh {node1_addr} \"{auth_header}\" {frequency_in_hours}', quiet=True, output_file=f\"{node2.get_name()}-configure.log\")"
   ]
  },
  {
   "cell_type": "code",
   "execution_count": null,
   "metadata": {},
   "outputs": [],
   "source": [
    "stdout, stderror = node2.execute(\"sudo docker exec perfsonar-testpoint /bin/bash /etc/cron.hourly/bootstrap_cron.sh\")"
   ]
  },
  {
   "cell_type": "code",
   "execution_count": null,
   "metadata": {},
   "outputs": [],
   "source": [
    "stdout, stderror = node2.execute(\"sudo docker exec perfsonar-testpoint crontab -l\")"
   ]
  },
  {
   "cell_type": "markdown",
   "metadata": {},
   "source": [
    "### 5. Run the Experiment\n",
    "\n",
    "* Use the ship-side testpoint to launch tests targeting the shore-side endpoint.\n",
    "* Test results are automatically collected and archived on the Shore-side Result Archiver."
   ]
  },
  {
   "cell_type": "code",
   "execution_count": null,
   "metadata": {},
   "outputs": [],
   "source": [
    "stdout, stderror = node2.execute(f\"sudo docker exec perfsonar-testpoint /usr/bin/python3 /usr/src/app/periodic.py --hosts {node1_addr} --output-dir /data --archive /usr/src/app/config.json --url http://{node1_addr}:8000/api/save/\")"
   ]
  },
  {
   "cell_type": "markdown",
   "metadata": {},
   "source": [
    "### Verify the data has been saved in the result archiver\n",
    "\n",
    "\n",
    "Visit the link to see if you observe the saved results: http://127.0.0.1:8000/\n",
    "\n",
    "You can also dump all the saved results in a json file using the following command:"
   ]
  },
  {
   "cell_type": "code",
   "execution_count": null,
   "metadata": {},
   "outputs": [],
   "source": [
    "stdout, stderr = node1.execute(\"cd pscheduler-result-archiver && python dump.py\")"
   ]
  },
  {
   "cell_type": "code",
   "execution_count": null,
   "metadata": {},
   "outputs": [],
   "source": [
    "entries_file = \"pscheduler-result-archiver/filtered_full_entries.jsonl\""
   ]
  },
  {
   "cell_type": "code",
   "execution_count": null,
   "metadata": {},
   "outputs": [],
   "source": [
    "node1.download_file(remote_file_path=entries_file, local_file_path=entries_file)"
   ]
  },
  {
   "cell_type": "markdown",
   "metadata": {},
   "source": [
    "### Generate some plots"
   ]
  },
  {
   "cell_type": "code",
   "execution_count": null,
   "metadata": {},
   "outputs": [],
   "source": [
    "stdout, stderr = node1.execute(\"cd pscheduler-result-archiver && python plot.py --unit Gbps\")"
   ]
  },
  {
   "cell_type": "markdown",
   "metadata": {},
   "source": [
    "### Download generated plots\n",
    "Downloaded plots can be found in `plots` directory."
   ]
  },
  {
   "cell_type": "code",
   "execution_count": null,
   "metadata": {},
   "outputs": [],
   "source": [
    "node1.download_directory(remote_directory_path=\"pscheduler-result-archiver/plots\", local_directory_path=\".\")"
   ]
  },
  {
   "cell_type": "code",
   "execution_count": null,
   "metadata": {},
   "outputs": [],
   "source": [
    "import os\n",
    "\n",
    "plot_dir = 'pscheduler-result-archiver/plots'\n",
    "png_files = [f for f in os.listdir(plot_dir) if f.endswith('.png')]\n"
   ]
  },
  {
   "cell_type": "code",
   "execution_count": null,
   "metadata": {},
   "outputs": [],
   "source": [
    "from IPython.display import Image, display\n",
    "\n",
    "for f in png_files:\n",
    "    display(Image(filename=os.path.join(plot_dir, f)))\n"
   ]
  },
  {
   "cell_type": "markdown",
   "metadata": {},
   "source": [
    "## Delete the Slice\n",
    "\n",
    "Please delete your slice when you are done with your experiment."
   ]
  },
  {
   "cell_type": "code",
   "execution_count": null,
   "metadata": {
    "tags": []
   },
   "outputs": [],
   "source": [
    "slice.delete()"
   ]
  },
  {
   "cell_type": "code",
   "execution_count": null,
   "metadata": {},
   "outputs": [],
   "source": []
  }
 ],
 "metadata": {
  "kernelspec": {
   "display_name": "Python 3 (ipykernel)",
   "language": "python",
   "name": "python3"
  },
  "language_info": {
   "codemirror_mode": {
    "name": "ipython",
    "version": 3
   },
   "file_extension": ".py",
   "mimetype": "text/x-python",
   "name": "python",
   "nbconvert_exporter": "python",
   "pygments_lexer": "ipython3",
   "version": "3.11.9"
  }
 },
 "nbformat": 4,
 "nbformat_minor": 4
}
