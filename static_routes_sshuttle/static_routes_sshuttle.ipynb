{
 "cells": [
  {
   "cell_type": "markdown",
   "metadata": {},
   "source": [
    "# End-to-End VM Connectivity Across Subnets Using `sshuttle`, WireGuard, and Static Routing\n",
    "\n",
    "This network slice consists of three Virtual Machines (VMs) connected across two subnets, forming a routed topology:\n",
    "\n",
    "* **Node1 - Node2 LAN**: `192.168.1.0/24`\n",
    "* **Node2 - Node3 WAN**: `192.168.2.0/24`\n",
    "\n",
    "---\n",
    "\n",
    "## **Routing Configuration Options**\n",
    "\n",
    "### 1. `sshuttle` Tunneling (Automated TCP Forwarding over SSH)\n",
    "\n",
    "As a simpler alternative to static routing, this notebook demonstrates [`sshuttle`](https://github.com/sshuttle/sshuttle), a tool that transparently forwards TCP traffic over SSH.\n",
    "\n",
    "* Run on **Node1**, it tunnels traffic via SSH to **Node2**\n",
    "* All packets to `192.168.2.0/24` or `192.168.3.0/24` are automatically forwarded\n",
    "* No static routes or IP forwarding setup needed on Node1\n",
    "* Ideal for fast setup, temporary debugging, or tunneling across firewalled segments\n",
    "\n",
    "---\n",
    "\n",
    "### 2. WireGuard Tunneling (Encrypted L3 Overlay)\n",
    "\n",
    "This notebook also demonstrates [**WireGuard**](https://www.wireguard.com/), a lightweight, modern VPN protocol for creating encrypted point-to-point tunnels.\n",
    "\n",
    "* **Node1**, **Node2**, and **Node3** form a WireGuard overlay using interface `wg0`\n",
    "* Peers are connected via internal tunnel IPs in the `10.0.0.0/24` subnet\n",
    "* WireGuard routes traffic securely between `192.168.1.0/24` and `192.168.2.0/24` through Node2\n",
    "* Requires enabling IP forwarding and configuring `iptables` for routing between underlay and overlay\n",
    "\n",
    "**Benefits:**\n",
    "\n",
    "* Full encryption of all traffic (TCP, UDP, ICMP)\n",
    "* Minimal configuration and strong performance\n",
    "* Customizable per-peer routing via `AllowedIPs`\n",
    "* Reliable over NAT/firewalled environments using `PersistentKeepalive`\n",
    "\n",
    "This option is ideal for **secure overlay networks**, especially in research, educational, or partially trusted environments like **FABRIC**.\n",
    "\n",
    "---\n",
    "\n",
    "### 3. Static Routing (Manual Configuration)\n",
    "\n",
    "* **Node2** manually routes traffic between `192.168.1.0/24` and `192.168.2.0/24`\n",
    "* Routes are set up using `ip route` and `sysctl` to enable forwarding\n",
    "* **Node3** can be similarly configured if extending beyond two hops\n",
    "* No encryption, but provides transparency and control over routing behavior\n",
    "\n",
    "This method is useful for understanding traditional IP routing principles and debugging layered topologies in testbeds."
   ]
  },
  {
   "cell_type": "markdown",
   "metadata": {},
   "source": [
    "## Import the FABlib Library\n"
   ]
  },
  {
   "cell_type": "code",
   "execution_count": null,
   "metadata": {},
   "outputs": [],
   "source": [
    "from ipaddress import ip_address, IPv4Address, IPv6Address, IPv4Network, IPv6Network\n",
    "import ipaddress\n",
    "\n",
    "from fabrictestbed_extensions.fablib.fablib import FablibManager as fablib_manager\n",
    "\n",
    "fablib = fablib_manager()\n",
    "                     \n",
    "fablib.show_config();"
   ]
  },
  {
   "cell_type": "markdown",
   "metadata": {},
   "source": [
    "## Create the Experiment Slice"
   ]
  },
  {
   "cell_type": "code",
   "execution_count": null,
   "metadata": {},
   "outputs": [],
   "source": [
    "slice_name = 'MySlice-tunnels-static-routes'\n",
    "[site1,site2, site3]  = fablib.get_random_sites(count=3)\n",
    "#[site1,site2, site3] = [\"SALT\", \"STAR\", \"LOSA\"]\n",
    "print(f\"Sites: {site1}, {site2}, {site3}\")\n",
    "\n",
    "node1_name = 'Node1'\n",
    "node2_name = 'Node2'\n",
    "node3_name = 'Node3'\n",
    "\n",
    "net1_name ='net1'\n",
    "net2_name='net2'\n",
    "net3_name='net3'\n",
    "\n",
    "net1_subnet = \"192.168.1.0/24\"\n",
    "net2_subnet = \"192.168.2.0/24\"\n",
    "net3_subnet = \"192.168.3.0/24\"\n",
    "image = \"default_ubuntu_24\""
   ]
  },
  {
   "cell_type": "code",
   "execution_count": null,
   "metadata": {
    "tags": []
   },
   "outputs": [],
   "source": [
    "#Create Slice\n",
    "slice = fablib.new_slice(name=slice_name)\n",
    "\n",
    "# Network\n",
    "net1 = slice.add_l2network(name=net1_name, subnet=IPv4Network(net1_subnet))\n",
    "net2 = slice.add_l2network(name=net2_name, subnet=IPv4Network(net2_subnet))\n",
    "\n",
    "# Node1\n",
    "node1 = slice.add_node(name=node1_name, site=site1, image=image)\n",
    "iface1 = node1.add_component(model='NIC_Basic', name='nic1').get_interfaces()[0]\n",
    "iface1.set_mode('auto')\n",
    "net1.add_interface(iface1)\n",
    "\n",
    "# Node2\n",
    "node2 = slice.add_node(name=node2_name, site=site2, image=image)\n",
    "iface2 = node2.add_component(model='NIC_Basic', name='nic1').get_interfaces()[0]\n",
    "iface2.set_mode('auto')\n",
    "net1.add_interface(iface2)\n",
    "\n",
    "iface3 = node2.add_component(model='NIC_Basic', name='nic2').get_interfaces()[0]\n",
    "iface3.set_mode('auto')\n",
    "net2.add_interface(iface3)\n",
    "\n",
    "# Node3\n",
    "node3 = slice.add_node(name=node3_name, site=site3, image=image)\n",
    "iface4 = node3.add_component(model='NIC_Basic', name='nic1').get_interfaces()[0]\n",
    "iface4.set_mode('auto')\n",
    "net2.add_interface(iface4)\n",
    "\n",
    "#Submit Slice Request\n",
    "slice.submit()"
   ]
  },
  {
   "cell_type": "markdown",
   "metadata": {},
   "source": [
    "## Verify Connectivity\n",
    "\n",
    "Before proceeding with routing or tunneling setup, ensure that basic IP-layer connectivity exists between directly connected nodes:\n",
    "\n",
    "- Check that **Node1 and Node2** are reachable from each other\n",
    "- Check that **Node2 and Node3** are reachable from each other"
   ]
  },
  {
   "cell_type": "code",
   "execution_count": null,
   "metadata": {},
   "outputs": [],
   "source": [
    "# Check ping on Site1 to Site2 (L2STS)\n",
    "slice = fablib.get_slice(slice_name)\n",
    "\n",
    "node1 = slice.get_node(name=node1_name)        \n",
    "node2 = slice.get_node(name=node2_name)           \n",
    "\n",
    "node2_addr = node2.get_interface(network_name=net1_name).get_ip_addr()\n",
    "\n",
    "stdout, stderr = node1.execute(f'ping -c 5 {node2_addr}')"
   ]
  },
  {
   "cell_type": "code",
   "execution_count": null,
   "metadata": {},
   "outputs": [],
   "source": [
    "# Check ping on Site2 to Site3 (L2STS)\n",
    "slice = fablib.get_slice(slice_name)\n",
    "\n",
    "node2 = slice.get_node(name=node2_name)        \n",
    "node3 = slice.get_node(name=node3_name)           \n",
    "\n",
    "node3_addr = node3.get_interface(network_name=net2_name).get_ip_addr()\n",
    "\n",
    "stdout, stderr = node2.execute(f'ping -c 5 {node3_addr}')"
   ]
  },
  {
   "cell_type": "markdown",
   "metadata": {},
   "source": [
    "## Configure SSH Key-Based Access\n",
    "\n",
    "Generate SSH key pairs for both the `ubuntu` and `root` users.  \n",
    "Distribute the corresponding public keys to all nodes by appending them to the appropriate `authorized_keys` files, enabling passwordless SSH access between nodes.\n"
   ]
  },
  {
   "cell_type": "code",
   "execution_count": null,
   "metadata": {},
   "outputs": [],
   "source": [
    "for n in slice.get_nodes():\n",
    "    n.execute('ssh-keygen -t rsa -N \"\" -f /home/ubuntu/.ssh/id_rsa', quiet=True)\n",
    "    n.execute('sudo ssh-keygen -t rsa -N \"\" -f /root/.ssh/id_rsa', quiet=True)"
   ]
  },
  {
   "cell_type": "code",
   "execution_count": null,
   "metadata": {},
   "outputs": [],
   "source": [
    "keys = {}\n",
    "# Step 1: Collect public keys from each node\n",
    "for n in slice.get_nodes():\n",
    "    ubuntu_key, _ = n.execute(\"cat /home/ubuntu/.ssh/id_rsa.pub\", quiet=True)\n",
    "    root_key, _ = n.execute(\"sudo cat /root/.ssh/id_rsa.pub\", quiet=True)\n",
    "    keys[n.get_name()] = {\n",
    "        \"ubuntu\": ubuntu_key.strip(),\n",
    "        \"root\": root_key.strip()\n",
    "    }\n",
    "\n",
    "# Step 2: Distribute public keys to all other nodes\n",
    "for n in slice.get_nodes():\n",
    "    for other_node_name, node_keys in keys.items():\n",
    "        if other_node_name == n.get_name():\n",
    "            continue\n",
    "        n.execute(f'echo \"{node_keys[\"ubuntu\"]}\" >> /home/ubuntu/.ssh/authorized_keys')\n",
    "        n.execute(f'sudo sh -c \\'echo \"{node_keys[\"root\"]}\" >> /root/.ssh/authorized_keys\\'')\n"
   ]
  },
  {
   "cell_type": "markdown",
   "metadata": {},
   "source": [
    "## Option 1: `sshuttle` — Simplified Tunneling Over SSH\n",
    "\n",
    "[`sshuttle`](https://github.com/sshuttle/sshuttle) provides a transparent, TCP-based VPN-like tunnel using only SSH. This option simplifies cross-node connectivity by automatically forwarding traffic from one node to a remote subnet without requiring static routes or manual IP forwarding setup.\n",
    "\n",
    "In this configuration:\n",
    "\n",
    "- `sshuttle` runs on **Node1** and creates an SSH tunnel to **Node2**\n",
    "- Any TCP traffic destined for the `192.168.2.0/24` subnets is captured and forwarded through this tunnel\n",
    "- No modifications are needed on **Node3** or beyond, as long as Node2 can reach them\n",
    "\n",
    "### Why Use `sshuttle`?\n",
    "- You want a quick and minimal setup\n",
    "- You do not have `sudo` access on all nodes to configure IP forwarding\n",
    "- You're working in a firewalled or restricted environment\n",
    "\n",
    "> ⚠️ Note: `sshuttle` only supports TCP traffic (e.g., SSH, HTTP) — not ICMP (`ping`) or UDP-based protocols.\n"
   ]
  },
  {
   "cell_type": "code",
   "execution_count": null,
   "metadata": {},
   "outputs": [],
   "source": [
    "slice = fablib.get_slice(slice_name)\n",
    "node1 = slice.get_node(name=node1_name)  \n",
    "node2 = slice.get_node(name=node2_name)        \n",
    "node3 = slice.get_node(name=node3_name)"
   ]
  },
  {
   "cell_type": "code",
   "execution_count": null,
   "metadata": {},
   "outputs": [],
   "source": [
    "node1_net1_addr = node1.get_interface(network_name=net1_name).get_ip_addr()\n",
    "node2_net1_addr = node2.get_interface(network_name=net1_name).get_ip_addr()\n",
    "\n",
    "node2_net2_addr = node2.get_interface(network_name=net2_name).get_ip_addr()\n",
    "node3_net2_addr = node3.get_interface(network_name=net2_name).get_ip_addr()"
   ]
  },
  {
   "cell_type": "code",
   "execution_count": null,
   "metadata": {},
   "outputs": [],
   "source": [
    "for n in slice.get_nodes():\n",
    "    stdout, stderr = n.execute(\"sudo apt update && sudo apt install -y sshuttle net-tools\", quiet=True)"
   ]
  },
  {
   "cell_type": "markdown",
   "metadata": {},
   "source": [
    "### Start `sshuttle` from Node1 and Add a Dummy Route\n",
    "\n",
    "To enable dynamic tunneling from **Node1** to the remote subnet via **Node2**, follow these steps:\n",
    "\n",
    "#### 1. Launch `sshuttle` on Node1\n",
    "\n",
    "Run the following command with `sudo` to start tunneling TCP traffic for the target subnet:\n",
    "\n",
    "```bash\n",
    "sudo sshuttle --method=nat \\\n",
    "  --ssh-cmd 'ssh -o StrictHostKeyChecking=no -o UserKnownHostsFile=/dev/null' \\\n",
    "  -r root@192.168.1.1 \\\n",
    "  192.168.2.0/24 \\\n",
    "  -vv\n"
   ]
  },
  {
   "cell_type": "code",
   "execution_count": null,
   "metadata": {},
   "outputs": [],
   "source": [
    "node1 = slice.get_node(node1_name)\n",
    "cmd = f\"sudo sshuttle --method=nat   --ssh-cmd 'ssh -o StrictHostKeyChecking=no -o UserKnownHostsFile=/dev/null' -r root@{node2_net1_addr} {net2_subnet} --daemon\"\n",
    "print(f\"Executing: {cmd}\")\n",
    "stdout, stderr = node1.execute(cmd)"
   ]
  },
  {
   "cell_type": "markdown",
   "metadata": {},
   "source": [
    "#### 2. Add a Dummy Route to Force Traffic into iptables\n",
    "On some systems, the kernel won’t allow packets to be emitted for unreachable networks — which prevents sshuttle from seeing them. To fix this, add a dummy route via loopback:\n",
    "\n",
    "This route doesn't send traffic to loopback — it simply convinces the kernel to emit packets, allowing iptables to redirect them through sshuttle."
   ]
  },
  {
   "cell_type": "code",
   "execution_count": null,
   "metadata": {},
   "outputs": [],
   "source": [
    "# Add a dummy route to force traffic to hit iptables\n",
    "stdout, stderr = node1.execute(f\"sudo ip route add {net2_subnet} via 127.0.0.1 dev lo\")"
   ]
  },
  {
   "cell_type": "markdown",
   "metadata": {},
   "source": [
    "#### 3. Test the Tunnel\n",
    "Send a TCP packet (e.g., to port 22) to confirm redirection:\n",
    "\n",
    "You should now be able to access Node3 as if directly connected."
   ]
  },
  {
   "cell_type": "code",
   "execution_count": null,
   "metadata": {},
   "outputs": [],
   "source": [
    "stdout, stderr = node1.execute(f'nc -zv {node3_net2_addr} 22')"
   ]
  },
  {
   "cell_type": "markdown",
   "metadata": {},
   "source": [
    "## Option 2: WireGuard Tunnel (Encrypted L3 Tunnel)\n",
    "\n",
    "WireGuard is a modern, lightweight, high-performance VPN protocol suitable for setting up encrypted tunnels across routed networks like FABRIC.\n",
    "\n",
    "This option demonstrates how to use WireGuard to tunnel traffic between **Node1** and **Node3** via **Node2**, forming an L3 encrypted overlay.\n",
    "\n",
    "### Why Use WireGuard?\n",
    "\n",
    "- **End-to-End Encryption**: All traffic between Node1 and Node3 is encrypted.\n",
    "- **Bypasses Static Routing Complexity**: Tunnel hides underlying subnet structure, reducing the need for route manipulation.\n",
    "- **Protocol Flexibility**: Supports ICMP, TCP, UDP—unlike sshuttle which is TCP-only.\n",
    "- **Lightweight and Fast**: Minimal performance overhead, ideal for research environments.\n",
    "\n",
    "### Topology Overview\n",
    "\n",
    "- **Underlay Subnets:**\n",
    "  - Node1 ↔ Node2 (LAN): `192.168.1.0/24`\n",
    "  - Node2 ↔ Node3 (WAN): `192.168.2.0/24`\n",
    "\n",
    "- **WireGuard Overlay (Tunnel IPs):**\n",
    "  - Node1: `10.0.0.1`\n",
    "  - Node2: `10.0.0.2`\n",
    "  - Node3: `10.0.0.3`\n",
    "\n",
    "**Node2** acts as a WireGuard relay for Node1 ↔ Node3, and also bridges overlay-to-underlay with IP forwarding and appropriate `iptables` rules.\n",
    "\n",
    "### When to Use This Option\n",
    "\n",
    "- When encrypted inter-node communication is required\n",
    "- When you want better protocol support than sshuttle\n",
    "- When route configuration is constrained or complex\n",
    "\n",
    "In the next sections, we will:\n",
    "- Install and configure WireGuard on all three nodes\n",
    "- Establish persistent tunnels\n",
    "- Verify encrypted ping and connectivity between Node1 and Node3"
   ]
  },
  {
   "cell_type": "code",
   "execution_count": null,
   "metadata": {},
   "outputs": [],
   "source": [
    "slice = fablib.get_slice(slice_name)\n",
    "node1 = slice.get_node(name=node1_name)  \n",
    "node2 = slice.get_node(name=node2_name)        \n",
    "node3 = slice.get_node(name=node3_name)\n",
    "\n",
    "node1_net1_addr = node1.get_interface(network_name=net1_name).get_ip_addr()\n",
    "node2_net1_addr = node2.get_interface(network_name=net1_name).get_ip_addr()\n",
    "\n",
    "node2_net2_ifc = node2.get_interface(network_name=net2_name)\n",
    "node2_net2_addr = node2_net2_ifc.get_ip_addr()\n",
    "node2_net2_ifc_name = node2_net2_ifc.get_os_interface()\n",
    "\n",
    "node3_net2_addr = node3.get_interface(network_name=net2_name).get_ip_addr()"
   ]
  },
  {
   "cell_type": "markdown",
   "metadata": {},
   "source": [
    "### Cleanup Any Leftover Configs Before Setting Up WireGuard\n",
    "\n",
    "Before configuring WireGuard, ensure the system is free of conflicting settings that might interfere with the tunnel.\n",
    "\n",
    "- **Remove any static routes:**\n",
    "\n",
    "  Run the following on each node as needed:\n",
    "\n",
    "  ```\n",
    "  sudo ip route del <ROUTE>\n",
    "  ```\n",
    "- **Stop sshuttle**:\n",
    "\n",
    "If sshuttle was started in daemon mode:\n",
    "```\n",
    "sudo pkill -f sshuttle\n",
    "```"
   ]
  },
  {
   "cell_type": "code",
   "execution_count": null,
   "metadata": {},
   "outputs": [],
   "source": [
    "stdout, stderr = node1.execute(f\"sudo ip route del {net2_subnet}\")\n",
    "stdout, stderr = node3.execute(f\"sudo ip route del {net1_subnet}\")"
   ]
  },
  {
   "cell_type": "code",
   "execution_count": null,
   "metadata": {},
   "outputs": [],
   "source": [
    "stdout, stderr = node1.execute(f\"sudo pkill -f sshuttle\")\n",
    "stdout, stderr = node3.execute(f\"sudo pkill -f sshuttle\")"
   ]
  },
  {
   "cell_type": "markdown",
   "metadata": {},
   "source": [
    "### 1. Install WireGuard on All Nodes and Generate WireGuard Key Pairs\n",
    "\n",
    "WireGuard needs to be installed on each of the nodes (**Node1**, **Node2**, and **Node3**) participating in the tunnel.\n"
   ]
  },
  {
   "cell_type": "code",
   "execution_count": null,
   "metadata": {},
   "outputs": [],
   "source": [
    "keys = {}\n",
    "for n in slice.get_nodes():\n",
    "    stdout, stderr = n.execute(\"sudo apt-get update && sudo apt-get install -y wireguard\", quiet=True)\n",
    "    stdout, stderr = n.execute(\"wg genkey | tee privatekey | wg pubkey > publickey\")\n",
    "    priv_key, stderr = n.execute(\"cat privatekey\", quiet=True)\n",
    "    pub_key, stderr = n.execute(\"cat publickey\", quiet=True)\n",
    "    keys[n.get_name()] = {\n",
    "        \"public\": pub_key,\n",
    "        \"private\": priv_key,\n",
    "    }"
   ]
  },
  {
   "cell_type": "markdown",
   "metadata": {},
   "source": [
    "### 2. Configure WireGuard Interfaces\n",
    "\n",
    "#### Setup WireGuard on Node1\n",
    "\n",
    "Create the configuration file `/etc/wireguard/wg0.conf` on **Node1**:"
   ]
  },
  {
   "cell_type": "code",
   "execution_count": null,
   "metadata": {},
   "outputs": [],
   "source": [
    "node1_wg_conf = f\"\"\"\\\n",
    "[Interface]\n",
    "PrivateKey = {keys.get(node1.get_name(), {}).get('private')}\n",
    "Address = 10.0.0.1/24\n",
    "ListenPort = 51820\n",
    "\n",
    "[Peer]\n",
    "PublicKey = {keys.get(node2.get_name(), {}).get('public')}\n",
    "Endpoint = {node2_net1_addr}:51820\n",
    "AllowedIPs = 10.0.0.0/24, {net2_subnet}\n",
    "PersistentKeepalive = 25\n",
    "\"\"\"\n",
    "\n",
    "stdout, stderr = node1.execute(f\"echo '{node1_wg_conf}' | sudo tee /etc/wireguard/wg0.conf > /dev/null\")\n",
    "\n",
    "stdout, stderr = node1.execute(\"sudo systemctl enable wg-quick@wg0 && sudo systemctl start wg-quick@wg0\")"
   ]
  },
  {
   "cell_type": "markdown",
   "metadata": {},
   "source": [
    "#### Setup WireGuard on Node2\n",
    "\n",
    "Create the configuration file `/etc/wireguard/wg0.conf` on **Node2**:"
   ]
  },
  {
   "cell_type": "code",
   "execution_count": null,
   "metadata": {},
   "outputs": [],
   "source": [
    "node2_wg_conf = f\"\"\"\\\n",
    "[Interface]\n",
    "PrivateKey = {keys.get(node2.get_name(), {}).get('private')}\n",
    "Address = 10.0.0.2/24\n",
    "ListenPort = 51820\n",
    "PostUp = iptables -A FORWARD -i %i -j ACCEPT; iptables -A FORWARD -o %i -j ACCEPT; iptables -t nat -A POSTROUTING -o {node2_net2_ifc_name} -j MASQUERADE\n",
    "PostDown = iptables -D FORWARD -i %i -j ACCEPT; iptables -D FORWARD -o %i -j ACCEPT; iptables -t nat -D POSTROUTING -o {node2_net2_ifc_name} -j MASQUERADE\n",
    "\n",
    "[Peer]\n",
    "PublicKey = {keys.get(node1.get_name(), {}).get('public')}\n",
    "Endpoint = {node1_net1_addr}:51820\n",
    "AllowedIPs = 10.0.0.1/32\n",
    "PersistentKeepalive = 25\n",
    "\n",
    "[Peer]\n",
    "PublicKey = {keys.get(node3.get_name(), {}).get('public')}\n",
    "Endpoint = {node3_net2_addr}:51820\n",
    "AllowedIPs = 10.0.0.3/32\n",
    "PersistentKeepalive = 25\n",
    "\"\"\"\n",
    "\n",
    "stdout, stderr = node2.execute(f\"echo '{node2_wg_conf}' | sudo tee /etc/wireguard/wg0.conf > /dev/null\")\n",
    "stdout, stderr = node2.execute(\"sudo systemctl enable wg-quick@wg0 && sudo systemctl start wg-quick@wg0\")"
   ]
  },
  {
   "cell_type": "markdown",
   "metadata": {},
   "source": [
    "#### Setup WireGuard on Node3\n",
    "\n",
    "Create the configuration file `/etc/wireguard/wg0.conf` on **Node3**:"
   ]
  },
  {
   "cell_type": "code",
   "execution_count": null,
   "metadata": {},
   "outputs": [],
   "source": [
    "node3_wg_conf = f\"\"\"\\\n",
    "[Interface]\n",
    "PrivateKey = {keys.get(node3.get_name(), {}).get('private')}\n",
    "Address = 10.0.0.3/24\n",
    "ListenPort = 51820\n",
    "\n",
    "[Peer]\n",
    "PublicKey = {keys.get(node2.get_name(), {}).get('public')}\n",
    "Endpoint = {node2_net2_addr}:51820\n",
    "AllowedIPs = 10.0.0.0/24, {net1_subnet}\n",
    "PersistentKeepalive = 25\n",
    "\"\"\"\n",
    "\n",
    "stdout, stderr = node3.execute(f\"echo '{node3_wg_conf}' | sudo tee /etc/wireguard/wg0.conf > /dev/null\")\n",
    "stdout, stderr = node3.execute(\"sudo systemctl enable wg-quick@wg0 && sudo systemctl start wg-quick@wg0\")"
   ]
  },
  {
   "cell_type": "markdown",
   "metadata": {},
   "source": [
    "### 4. Enable IP Forwarding on Node2\n",
    "\n",
    "To allow Node2 to route traffic between `Node1` and `Node3` over the WireGuard tunnel, enable IPv4 forwarding:"
   ]
  },
  {
   "cell_type": "code",
   "execution_count": null,
   "metadata": {},
   "outputs": [],
   "source": [
    "stdout, stderr = node2.execute(\"echo 1 | sudo tee /proc/sys/net/ipv4/ip_forward && sudo sysctl -w net.ipv4.ip_forward=1 && sudo sysctl -p\")"
   ]
  },
  {
   "cell_type": "markdown",
   "metadata": {},
   "source": [
    "### 5. Test Tunnel\n",
    "\n",
    "Once the WireGuard interfaces are configured and active on all nodes, and IP forwarding is enabled on Node2, you can verify tunnel connectivity.\n",
    "\n",
    "#### From Node1:\n",
    "Try pinging Node3’s WireGuard IP or private interface IP:\n",
    "\n",
    "```\n",
    "ping 10.0.0.3\n",
    "```\n",
    "#### From Node3:\n",
    "Try pinging Node1’s WireGuard IP or private interface IP:\n",
    "\n",
    "```\n",
    "ping 10.0.0.1\n",
    "```\n",
    "If the tunnel is working correctly, you should see successful replies. You can also inspect WireGuard status and packet counts with:\n",
    "```\n",
    "sudo wg show\n",
    "```\n",
    "This confirms end-to-end encrypted L3 connectivity through the WireGuard tunnel."
   ]
  },
  {
   "cell_type": "code",
   "execution_count": null,
   "metadata": {},
   "outputs": [],
   "source": [
    "stdout, stderr = node1.execute(f'ping -c 5 10.0.0.3')\n",
    "stdout, stderr = node1.execute(f'ping -c 5 {node3_net2_addr}')"
   ]
  },
  {
   "cell_type": "code",
   "execution_count": null,
   "metadata": {},
   "outputs": [],
   "source": [
    "stdout, stderr = node3.execute(f'ping -c 5 10.0.0.1')\n",
    "stdout, stderr = node3.execute(f'ping -c 5 {node1_net1_addr}')"
   ]
  },
  {
   "cell_type": "code",
   "execution_count": null,
   "metadata": {},
   "outputs": [],
   "source": [
    "stdout, stderr = node1.execute(f'nc -zv {node3_net2_addr} 22')"
   ]
  },
  {
   "cell_type": "markdown",
   "metadata": {},
   "source": [
    "## Option 3: Static Routes and IP Forwarding\n",
    "\n",
    "This approach demonstrates how to manually configure static routes and enable IP forwarding to achieve end-to-end connectivity across subnets.\n",
    "\n",
    "In this setup:\n",
    "\n",
    "- **Node2** acts as a router between `Node1` and `Node3`, bridging `192.168.1.0/24` and `192.168.2.0/24`\n",
    "- Each node’s routing table is explicitly updated using `ip route` commands\n",
    "- IP forwarding is enabled on intermediary nodes to allow packets to be relayed between interfaces\n",
    "\n",
    "### Why Use Static Routes?\n",
    "- You want full control and visibility into packet routing\n",
    "- You’re building realistic network experiments\n",
    "- You need to support all protocols (TCP, UDP, ICMP, etc.)\n",
    "- Unlike sshuttle, this approach supports all IP traffic, not just TCP."
   ]
  },
  {
   "cell_type": "code",
   "execution_count": null,
   "metadata": {},
   "outputs": [],
   "source": [
    "slice = fablib.get_slice(slice_name)\n",
    "node1 = slice.get_node(name=node1_name)  \n",
    "node2 = slice.get_node(name=node2_name)        \n",
    "node3 = slice.get_node(name=node3_name)\n",
    "\n",
    "node1_net1_addr = node1.get_interface(network_name=net1_name).get_ip_addr()\n",
    "node2_net1_addr = node2.get_interface(network_name=net1_name).get_ip_addr()\n",
    "\n",
    "node2_net2_addr = node2.get_interface(network_name=net2_name).get_ip_addr()\n",
    "node3_net2_addr = node3.get_interface(network_name=net2_name).get_ip_addr()"
   ]
  },
  {
   "cell_type": "markdown",
   "metadata": {},
   "source": [
    "### 1. Cleanup Any Leftover Configs Before Setting Up Static Routes\n",
    "\n",
    "Before configuring WireGuard, ensure the system is free of conflicting settings that might interfere with the tunnel.\n",
    "\n",
    "- **Remove any static routes:**\n",
    "\n",
    "  Run the following on each node as needed:\n",
    "\n",
    "  ```\n",
    "  sudo ip route del <ROUTE>\n",
    "  ```\n",
    "- **Stop sshuttle**:\n",
    "\n",
    "If sshuttle was started in daemon mode:\n",
    "```\n",
    "sudo pkill -f sshuttle\n",
    "```\n",
    "- **Stop wireguard**:\n",
    "\n",
    "If sshuttle was started in daemon mode:\n",
    "```\n",
    "sudo pkill -f sshuttle\n",
    "```"
   ]
  },
  {
   "cell_type": "code",
   "execution_count": null,
   "metadata": {},
   "outputs": [],
   "source": [
    "stdout, stderr = node1.execute(f\"sudo ip route del {net2_subnet} via 127.0.0.1 dev lo\")"
   ]
  },
  {
   "cell_type": "markdown",
   "metadata": {},
   "source": [
    "2. **Enable IP Forwarding**  \n",
    "   On **Node2**, enable IP forwarding:\n",
    "   ```bash\n",
    "   sudo sysctl -w net.ipv4.ip_forward=1"
   ]
  },
  {
   "cell_type": "code",
   "execution_count": null,
   "metadata": {},
   "outputs": [],
   "source": [
    "stdout, stderr = node2.execute(\"echo 1 | sudo tee /proc/sys/net/ipv4/ip_forward && sudo sysctl -w net.ipv4.ip_forward=1 && sudo sysctl -p\")"
   ]
  },
  {
   "cell_type": "markdown",
   "metadata": {},
   "source": [
    "3. **Set Up Static Routes**\n",
    "- Add a static route on Node1 to reach Node3 via Node2\n",
    "- Add a static route on Node3 to reach Node1 via Node2"
   ]
  },
  {
   "cell_type": "code",
   "execution_count": null,
   "metadata": {},
   "outputs": [],
   "source": [
    "node1_net1_addr = node1.get_interface(network_name=net1_name).get_ip_addr()\n",
    "node2_net1_addr = node2.get_interface(network_name=net1_name).get_ip_addr()\n",
    "\n",
    "node2_net2_addr = node2.get_interface(network_name=net2_name).get_ip_addr()\n",
    "node3_net2_addr = node3.get_interface(network_name=net2_name).get_ip_addr()\n",
    "\n",
    "\n",
    "print(\"Setup routes on Node1\")\n",
    "stdout, stderr = node1.execute(f\"sudo ip route add {net2_subnet} via {node2_net1_addr}\")\n",
    "stdout, stderr = node1.execute(f\"sudo ip route list\")\n",
    "\n",
    "print()\n",
    "print(\"Setup routes on Node3\")\n",
    "stdout, stderr = node3.execute(f\"sudo ip route add {net1_subnet} via {node2_net2_addr}\")\n",
    "stdout, stderr = node3.execute(f\"sudo ip route list\")"
   ]
  },
  {
   "cell_type": "code",
   "execution_count": null,
   "metadata": {},
   "outputs": [],
   "source": [
    "stdout, stderr = node1.execute(f'ping -c 5 {node3_net2_addr}')"
   ]
  },
  {
   "cell_type": "code",
   "execution_count": null,
   "metadata": {},
   "outputs": [],
   "source": [
    "stdout, stderr = node1.execute(f'nc -zv {node3_net2_addr} 22')"
   ]
  },
  {
   "cell_type": "markdown",
   "metadata": {},
   "source": [
    "## Delete the Slice\n",
    "\n",
    "Please delete your slice when you are done with your experiment."
   ]
  },
  {
   "cell_type": "code",
   "execution_count": null,
   "metadata": {},
   "outputs": [],
   "source": [
    "slice.delete()"
   ]
  },
  {
   "cell_type": "code",
   "execution_count": null,
   "metadata": {},
   "outputs": [],
   "source": []
  }
 ],
 "metadata": {
  "kernelspec": {
   "display_name": "Python 3 (ipykernel)",
   "language": "python",
   "name": "python3"
  },
  "language_info": {
   "codemirror_mode": {
    "name": "ipython",
    "version": 3
   },
   "file_extension": ".py",
   "mimetype": "text/x-python",
   "name": "python",
   "nbconvert_exporter": "python",
   "pygments_lexer": "ipython3",
   "version": "3.11.9"
  }
 },
 "nbformat": 4,
 "nbformat_minor": 4
}
